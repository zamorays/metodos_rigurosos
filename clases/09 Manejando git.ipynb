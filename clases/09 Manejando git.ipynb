{
 "metadata": {
  "name": ""
 },
 "nbformat": 3,
 "nbformat_minor": 0,
 "worksheets": [
  {
   "cells": [
    {
     "cell_type": "heading",
     "level": 1,
     "metadata": {},
     "source": [
      "Proceso para utilizar git"
     ]
    },
    {
     "cell_type": "markdown",
     "metadata": {},
     "source": [
      "1. Forkear el repositorio remoto <https://github.com/computo-fc/metodos_rigurosos>\n",
      "\n",
      "2. Clonear tu repositorio remoto <https://github.com/dpsanders/metodos_rigurosos> (reemplazando `dpsanders` por tu propio usuario de GitHub)\n",
      "\n",
      "3. Cambiar al directorio que acabas de crear a trav\u00e9s del cloneo\n",
      "\n",
      "4. `git remote add upstream https://github.com/computo-fc/metodos_rigurosos`\n",
      "\n",
      "5. `git branch -u upstream/master`"
     ]
    },
    {
     "cell_type": "code",
     "collapsed": false,
     "input": [],
     "language": "python",
     "metadata": {},
     "outputs": []
    },
    {
     "cell_type": "heading",
     "level": 2,
     "metadata": {},
     "source": [
      "Para checar un Pull Request:"
     ]
    },
    {
     "cell_type": "markdown",
     "metadata": {},
     "source": [
      "    git remote add miguelmaya https://github.com/miguelmaya/metodos_rigurosos\n",
      "    \n",
      "    git remote -v"
     ]
    },
    {
     "cell_type": "markdown",
     "metadata": {},
     "source": [
      "    git checkout miguelmaya/metodos_rigurosos"
     ]
    },
    {
     "cell_type": "code",
     "collapsed": false,
     "input": [],
     "language": "python",
     "metadata": {},
     "outputs": []
    },
    {
     "cell_type": "markdown",
     "metadata": {},
     "source": [
      "Esto te deja en el estado de \"detached HEAD\": pueden usar el c\u00f3digo, pero no es un branch verdadero."
     ]
    },
    {
     "cell_type": "code",
     "collapsed": false,
     "input": [],
     "language": "python",
     "metadata": {},
     "outputs": []
    },
    {
     "cell_type": "heading",
     "level": 2,
     "metadata": {},
     "source": [
      "Branches (ramas)"
     ]
    },
    {
     "cell_type": "markdown",
     "metadata": {},
     "source": [
      "Nunca trabajes en `master`. Crea una nueva rama (branch):"
     ]
    },
    {
     "cell_type": "markdown",
     "metadata": {},
     "source": [
      "    git checkout -b pruebas_adicion"
     ]
    },
    {
     "cell_type": "markdown",
     "metadata": {},
     "source": [
      "Un branch es como una copia completa nueva del c\u00f3digo, independiente de cualquier otro branch."
     ]
    },
    {
     "cell_type": "markdown",
     "metadata": {},
     "source": [
      "Para cambiar de rama:\n",
      "\n",
      "    git checkout master\n",
      "    git checkout pruebas_adicion"
     ]
    },
    {
     "cell_type": "markdown",
     "metadata": {},
     "source": [
      "Pushear (empujar) tu branch nuevo:\n",
      "\n",
      "    git push -u pruebas_adicion"
     ]
    },
    {
     "cell_type": "code",
     "collapsed": false,
     "input": [],
     "language": "python",
     "metadata": {},
     "outputs": []
    }
   ],
   "metadata": {}
  }
 ]
}