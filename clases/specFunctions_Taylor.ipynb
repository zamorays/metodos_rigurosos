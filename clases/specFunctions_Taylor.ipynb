{
 "metadata": {
  "name": ""
 },
 "nbformat": 3,
 "nbformat_minor": 0,
 "worksheets": [
  {
   "cells": [
    {
     "cell_type": "code",
     "collapsed": false,
     "input": [
      "%load_ext version_information\n",
      "%version_information numpy, scipy, matplotlib, numpy, sympy"
     ],
     "language": "python",
     "metadata": {},
     "outputs": [
      {
       "output_type": "stream",
       "stream": "stdout",
       "text": [
        "The version_information extension is already loaded. To reload it, use:\n",
        "  %reload_ext version_information\n"
       ]
      },
      {
       "html": [
        "<table><tr><th>Software</th><th>Version</th></tr><tr><td>Python</td><td>2.7.3 (default, Sep 26 2013, 20:03:06) [GCC 4.6.3]</td></tr><tr><td>IPython</td><td>2.0.0-dev</td></tr><tr><td>OS</td><td>posix [linux2]</td></tr><tr><td>numpy</td><td>1.6.1</td></tr><tr><td>scipy</td><td>0.9.0</td></tr><tr><td>matplotlib</td><td>1.1.1rc</td></tr><tr><td>numpy</td><td>1.6.1</td></tr><tr><td>sympy</td><td>0.7.4-git</td></tr><tr><td colspan='2'>Wed Jan 15 21:02:57 2014 CST</td></tr></table>"
       ],
       "json": [
        "{ \"Software versions\" : [{ \"module\" : \"Python\", \"version\" : \"2.7.3 (default, Sep 26 2013, 20:03:06) [GCC 4.6.3]\" }, { \"module\" : \"IPython\", \"version\" : \"2.0.0-dev\" }, { \"module\" : \"OS\", \"version\" : \"posix [linux2]\" }, { \"module\" : \"numpy\", \"version\" : \"1.6.1\" }, { \"module\" : \"scipy\", \"version\" : \"0.9.0\" }, { \"module\" : \"matplotlib\", \"version\" : \"1.1.1rc\" }, { \"module\" : \"numpy\", \"version\" : \"1.6.1\" }, { \"module\" : \"sympy\", \"version\" : \"0.7.4-git\" } ] }"
       ],
       "latex": [
        "\\begin{tabular}{|l|l|}\\hline\n",
        "{\\bf Software} & {\\bf Version} \\\\ \\hline\\hline\n",
        "Python & 2.7.3 (default, Sep 26 2013, 20:03:06) [GCC 4.6.3] \\\\ \\hline\n",
        "IPython & 2.0.0-dev \\\\ \\hline\n",
        "OS & posix [linux2] \\\\ \\hline\n",
        "numpy & 1.6.1 \\\\ \\hline\n",
        "scipy & 0.9.0 \\\\ \\hline\n",
        "matplotlib & 1.1.1rc \\\\ \\hline\n",
        "numpy & 1.6.1 \\\\ \\hline\n",
        "sympy & 0.7.4-git \\\\ \\hline\n",
        "\\hline \\multicolumn{2}{|l|}{Wed Jan 15 21:02:57 2014 CST} \\\\ \\hline\n",
        "\\end{tabular}\n"
       ],
       "metadata": {},
       "output_type": "pyout",
       "prompt_number": 26,
       "text": [
        "Software versions\n",
        "Python 2.7.3 (default, Sep 26 2013, 20:03:06) [GCC 4.6.3]\n",
        "IPython 2.0.0-dev\n",
        "OS posix [linux2]\n",
        "numpy 1.6.1\n",
        "scipy 0.9.0\n",
        "matplotlib 1.1.1rc\n",
        "numpy 1.6.1\n",
        "sympy 0.7.4-git\n",
        "\n",
        "Wed Jan 15 21:02:57 2014 CST"
       ]
      }
     ],
     "prompt_number": 26
    },
    {
     "cell_type": "heading",
     "level": 1,
     "metadata": {},
     "source": [
      "Clase TAYLOR y funciones especiales."
     ]
    },
    {
     "cell_type": "markdown",
     "metadata": {},
     "source": [
      "$$f(x_0) = \\sum_{n}{\\frac{1}{n!}\\frac{d^n f(x)}{d^n x}\\Big |_{x=x_0} (x-x_0)^n}$$\n",
      "$$f_k = \\frac{1}{n!}\\frac{d^n f(x)}{d^n x}\\Big |_{x=x_0}$$"
     ]
    },
    {
     "cell_type": "code",
     "collapsed": false,
     "input": [
      "from taylor import *\n",
      "from intervalo import *\n",
      "from sympy import series, symbols,simplify,factorial"
     ],
     "language": "python",
     "metadata": {},
     "outputs": [],
     "prompt_number": 27
    },
    {
     "cell_type": "code",
     "collapsed": false,
     "input": [
      "a = taylorDiff([1,2,3,4],15)"
     ],
     "language": "python",
     "metadata": {},
     "outputs": [],
     "prompt_number": 28
    },
    {
     "cell_type": "markdown",
     "metadata": {},
     "source": [
      "$$a = 1.0+2.0x+2.x^3+4.0x^4$$"
     ]
    },
    {
     "cell_type": "code",
     "collapsed": false,
     "input": [
      "a"
     ],
     "language": "python",
     "metadata": {},
     "outputs": [
      {
       "latex": [
        "JET [[1 2 3 4 0 0 0 0 0 0 0 0 0 0 0 0],order=15]"
       ],
       "metadata": {},
       "output_type": "pyout",
       "prompt_number": 29,
       "text": [
        "JET [[1 2 3 4 0 0 0 0 0 0 0 0 0 0 0 0],order=15]"
       ]
      }
     ],
     "prompt_number": 29
    },
    {
     "cell_type": "code",
     "collapsed": false,
     "input": [
      "a(0.0) #callable atribute!"
     ],
     "language": "python",
     "metadata": {},
     "outputs": [
      {
       "metadata": {},
       "output_type": "pyout",
       "prompt_number": 30,
       "text": [
        "1.0"
       ]
      }
     ],
     "prompt_number": 30
    },
    {
     "cell_type": "code",
     "collapsed": false,
     "input": [
      "a.deriv()"
     ],
     "language": "python",
     "metadata": {},
     "outputs": [
      {
       "latex": [
        "JET [[ 2  6 12  0  0  0  0  0  0  0  0  0  0  0  0  0],order=15]"
       ],
       "metadata": {},
       "output_type": "pyout",
       "prompt_number": 31,
       "text": [
        "JET [[ 2  6 12  0  0  0  0  0  0  0  0  0  0  0  0  0],order=15]"
       ]
      }
     ],
     "prompt_number": 31
    },
    {
     "cell_type": "code",
     "collapsed": false,
     "input": [
      "(a.deriv()).deriv()"
     ],
     "language": "python",
     "metadata": {},
     "outputs": [
      {
       "latex": [
        "JET [[ 6 24  0  0  0  0  0  0  0  0  0  0  0  0  0  0],order=15]"
       ],
       "metadata": {},
       "output_type": "pyout",
       "prompt_number": 32,
       "text": [
        "JET [[ 6 24  0  0  0  0  0  0  0  0  0  0  0  0  0  0],order=15]"
       ]
      }
     ],
     "prompt_number": 32
    },
    {
     "cell_type": "code",
     "collapsed": false,
     "input": [
      "a.deriv(3)"
     ],
     "language": "python",
     "metadata": {},
     "outputs": [
      {
       "latex": [
        "JET [[24  0  0  0  0  0  0  0  0  0  0  0  0  0  0  0],order=15]"
       ],
       "metadata": {},
       "output_type": "pyout",
       "prompt_number": 33,
       "text": [
        "JET [[24  0  0  0  0  0  0  0  0  0  0  0  0  0  0  0],order=15]"
       ]
      }
     ],
     "prompt_number": 33
    },
    {
     "cell_type": "code",
     "collapsed": false,
     "input": [
      "[0]*15"
     ],
     "language": "python",
     "metadata": {},
     "outputs": [
      {
       "metadata": {},
       "output_type": "pyout",
       "prompt_number": 34,
       "text": [
        "[0, 0, 0, 0, 0, 0, 0, 0, 0, 0, 0, 0, 0, 0, 0]"
       ]
      }
     ],
     "prompt_number": 34
    },
    {
     "cell_type": "code",
     "collapsed": false,
     "input": [
      "def pot(x):\n",
      "    return x**10"
     ],
     "language": "python",
     "metadata": {},
     "outputs": [],
     "prompt_number": 35
    },
    {
     "cell_type": "code",
     "collapsed": false,
     "input": [],
     "language": "python",
     "metadata": {},
     "outputs": [],
     "prompt_number": 35
    },
    {
     "cell_type": "code",
     "collapsed": false,
     "input": [
      "pot(a)"
     ],
     "language": "python",
     "metadata": {},
     "outputs": [
      {
       "latex": [
        "JET [[        1        20       210      1540      8805     41544    167400\n",
        "    589200   1840050   5156600  13076140  30190200  63754850 123554400\n",
        " 220231800 361542480],order=15]"
       ],
       "metadata": {},
       "output_type": "pyout",
       "prompt_number": 36,
       "text": [
        "JET [[        1        20       210      1540      8805     41544    167400\n",
        "    589200   1840050   5156600  13076140  30190200  63754850 123554400\n",
        " 220231800 361542480],order=15]"
       ]
      }
     ],
     "prompt_number": 36
    },
    {
     "cell_type": "code",
     "collapsed": false,
     "input": [
      "stor = []\n",
      "for x0 in np.arange(-1.0,1.0,0.01):\n",
      "    stor.append(pot(taylorDiff([x0,1],15)).jet)"
     ],
     "language": "python",
     "metadata": {},
     "outputs": [],
     "prompt_number": 37
    },
    {
     "cell_type": "code",
     "collapsed": false,
     "input": [
      "from pylab import *\n",
      "%pylab inline"
     ],
     "language": "python",
     "metadata": {},
     "outputs": [
      {
       "output_type": "stream",
       "stream": "stdout",
       "text": [
        "Populating the interactive namespace from numpy and matplotlib\n"
       ]
      },
      {
       "output_type": "stream",
       "stream": "stderr",
       "text": [
        "WARNING: pylab import has clobbered these variables: ['info', 'linalg', 'draw_if_interactive', 'random', 'fft', 'load', 'save', 'power']\n",
        "`%pylab --no-import-all` prevents importing * from pylab and numpy\n"
       ]
      }
     ],
     "prompt_number": 38
    },
    {
     "cell_type": "code",
     "collapsed": false,
     "input": [
      "figure()\n",
      "plot(np.arange(-1.0,1.0,0.01), stor, 'r')\n",
      "xlabel('x')\n",
      "ylabel('y')\n",
      "title('title')\n"
     ],
     "language": "python",
     "metadata": {},
     "outputs": [
      {
       "metadata": {},
       "output_type": "pyout",
       "prompt_number": 39,
       "text": [
        "<matplotlib.text.Text at 0x3e45f50>"
       ]
      },
      {
       "metadata": {},
       "output_type": "display_data",
       "png": "[encoded data removed]",
       "text": [
        "<matplotlib.figure.Figure at 0x3c96550>"
       ]
      }
     ],
     "prompt_number": 39
    },
    {
     "cell_type": "markdown",
     "metadata": {},
     "source": [
      "Polinomios de Laguerre:\n",
      "$$L_n(x) = \\frac{e^x}{n!}\\left(\\frac{d}{d x}\\right)^n (x^n e^{-x})$$"
     ]
    },
    {
     "cell_type": "code",
     "collapsed": false,
     "input": [
      "def genera(x,n):\n",
      "    if n==0:\n",
      "        return exp(-x)\n",
      "    else:\n",
      "        return exp(-x)*x**n"
     ],
     "language": "python",
     "metadata": {},
     "outputs": [],
     "prompt_number": 40
    },
    {
     "cell_type": "code",
     "collapsed": false,
     "input": [
      "def deriva(pol):\n",
      "    coef=[0.0]*(pol.order+1)\n",
      "    for i in range(pol.order):\n",
      "        coef[i] = (i+1)*pol.jet[i+1]\n",
      "    return taylorDiff(coef,pol.order)"
     ],
     "language": "python",
     "metadata": {},
     "outputs": [],
     "prompt_number": 41
    },
    {
     "cell_type": "code",
     "collapsed": false,
     "input": [
      "(exp(taylorDiff([0.0,1],6))*deriva( genera(taylorDiff([0.0,1],7),1) )).jet[0:2]"
     ],
     "language": "python",
     "metadata": {},
     "outputs": [
      {
       "metadata": {},
       "output_type": "pyout",
       "prompt_number": 42,
       "text": [
        "array([ 1., -1.])"
       ]
      }
     ],
     "prompt_number": 42
    },
    {
     "cell_type": "code",
     "collapsed": false,
     "input": [
      "(1./factorial(2))*(exp(taylorDiff([0.0,1],6))*deriva( deriva( genera(taylorDiff([0.0,1],7),2)) )).jet[0:3]"
     ],
     "language": "python",
     "metadata": {},
     "outputs": [
      {
       "metadata": {},
       "output_type": "pyout",
       "prompt_number": 43,
       "text": [
        "array([1.00000000000000, -2.00000000000000, 0.500000000000000], dtype=object)"
       ]
      }
     ],
     "prompt_number": 43
    },
    {
     "cell_type": "code",
     "collapsed": false,
     "input": [
      "for i in range(4):\n",
      "    print i, genera(taylorDiff([0.0,1],5),i)"
     ],
     "language": "python",
     "metadata": {},
     "outputs": [
      {
       "output_type": "stream",
       "stream": "stdout",
       "text": [
        "0 JET [[ 1.         -1.          0.5        -0.16666667  0.04166667 -0.00833333],order=5]\n",
        "1 JET [[ 0.          1.         -1.          0.5        -0.16666667  0.04166667],order=5]\n",
        "2 JET [[ 0.          0.          1.         -1.          0.5        -0.16666667],order=5]\n",
        "3 JET [[ 0.   0.   0.   1.  -1.   0.5],order=5]\n"
       ]
      }
     ],
     "prompt_number": 44
    },
    {
     "cell_type": "code",
     "collapsed": false,
     "input": [
      "genera(taylorDiff([0.0,1],4),1)"
     ],
     "language": "python",
     "metadata": {},
     "outputs": [
      {
       "latex": [
        "JET [[ 0.          1.         -1.          0.5        -0.16666667],order=4]"
       ],
       "metadata": {},
       "output_type": "pyout",
       "prompt_number": 45,
       "text": [
        "JET [[ 0.          1.         -1.          0.5        -0.16666667],order=4]"
       ]
      }
     ],
     "prompt_number": 45
    },
    {
     "cell_type": "code",
     "collapsed": false,
     "input": [
      "exp(taylorDiff([0.0,1],4))*genera(taylorDiff([0.0,1],4),2)"
     ],
     "language": "python",
     "metadata": {},
     "outputs": [
      {
       "latex": [
        "JET [[ 0.  0.  1.  0.  0.],order=4]"
       ],
       "metadata": {},
       "output_type": "pyout",
       "prompt_number": 46,
       "text": [
        "JET [[ 0.  0.  1.  0.  0.],order=4]"
       ]
      }
     ],
     "prompt_number": 46
    },
    {
     "cell_type": "code",
     "collapsed": false,
     "input": [
      "exp(taylorDiff([0.0,1],4))*genera(taylorDiff([0.0,1],4),3)"
     ],
     "language": "python",
     "metadata": {},
     "outputs": [
      {
       "latex": [
        "JET [[ 0.  0.  0.  1.  0.],order=4]"
       ],
       "metadata": {},
       "output_type": "pyout",
       "prompt_number": 47,
       "text": [
        "JET [[ 0.  0.  0.  1.  0.],order=4]"
       ]
      }
     ],
     "prompt_number": 47
    },
    {
     "cell_type": "code",
     "collapsed": false,
     "input": [
      "\n",
      "#n=1\n",
      "for n in range(5):\n",
      "    stor = []\n",
      "    for x0 in np.arange(0.0,10.0,0.01):\n",
      "        stor.append((np.exp(x0))*genera(taylorDiff([x0,1],n+1),n).jet[n])\n",
      "\n",
      "    #figure()\n",
      "    plot(np.arange(0.0,10.0,0.01), stor, 'r')\n",
      "    xlabel('x')\n",
      "    ylabel('y')\n",
      "    #title('title')\n"
     ],
     "language": "python",
     "metadata": {},
     "outputs": [
      {
       "metadata": {},
       "output_type": "display_data",
       "png": "[encoded data removed]",
       "text": [
        "<matplotlib.figure.Figure at 0x3e49c10>"
       ]
      }
     ],
     "prompt_number": 48
    },
    {
     "cell_type": "markdown",
     "metadata": {},
     "source": [
      "De hecho en el calculo anteririos tabiem se estan calculando lo polinomios asociados:\n",
      "$$L_n^k(x)=(-1)^k\\frac{d^k}{d x^k} L_{n+k} $$"
     ]
    },
    {
     "cell_type": "code",
     "collapsed": false,
     "input": [],
     "language": "python",
     "metadata": {},
     "outputs": [],
     "prompt_number": 48
    },
    {
     "cell_type": "code",
     "collapsed": false,
     "input": [
      "def generaHermite(x,n):\n",
      "    return (-1)**n*exp(-x**2)"
     ],
     "language": "python",
     "metadata": {},
     "outputs": [],
     "prompt_number": 49
    },
    {
     "cell_type": "code",
     "collapsed": false,
     "input": [
      "%matplotlib inline\n",
      "from matplotlib import pyplot as plt\n",
      "\n",
      "fig = plt.figure()\n",
      "fig.set_dpi(100)\n",
      "fig.set_size_inches(7, 6.5)\n",
      "ax = plt.axes(xlim=(-4,4), ylim=(-10,10))\n",
      "plt.xlabel('x')\n",
      "plt.ylabel('y')\n",
      "\n",
      "for n in range(5):\n",
      "    stor = []\n",
      "    for x0 in np.arange(-4.0,4.0,0.01):\n",
      "        stor.append((np.exp(x0**2))*factorial(n)*generaHermite(taylorDiff([x0,1],n+1),n).jet[n])\n",
      "\n",
      "    #figure()\n",
      "    plt.plot(np.arange(-4.0,4.0,0.01), stor, 'r')\n",
      "    #title('title')\n"
     ],
     "language": "python",
     "metadata": {},
     "outputs": [
      {
       "metadata": {},
       "output_type": "display_data",
       "png": "[encoded data removed]",
       "text": [
        "<matplotlib.figure.Figure at 0x38dded0>"
       ]
      }
     ],
     "prompt_number": 50
    },
    {
     "cell_type": "code",
     "collapsed": false,
     "input": [],
     "language": "python",
     "metadata": {},
     "outputs": [],
     "prompt_number": 50
    }
   ],
   "metadata": {}
  }
 ]
}